{
  "nbformat": 4,
  "nbformat_minor": 0,
  "metadata": {
    "colab": {
      "name": "TF2.1 RNN ON FASHION MNIST.ipynb",
      "provenance": [],
      "collapsed_sections": [],
      "toc_visible": true,
      "authorship_tag": "ABX9TyOm+tZYKf0QIdFtPoWAFvn8",
      "include_colab_link": true
    },
    "kernelspec": {
      "name": "python3",
      "display_name": "Python 3"
    }
  },
  "cells": [
    {
      "cell_type": "markdown",
      "metadata": {
        "id": "view-in-github",
        "colab_type": "text"
      },
      "source": [
        "<a href=\"https://colab.research.google.com/github/saadkiet/RNN-ON-FASHION-MNIST/blob/master/RNN_ON_FASHION_MNIST.ipynb\" target=\"_parent\"><img src=\"https://colab.research.google.com/assets/colab-badge.svg\" alt=\"Open In Colab\"/></a>"
      ]
    },
    {
      "cell_type": "markdown",
      "metadata": {
        "id": "EA6_dMTvpeKA",
        "colab_type": "text"
      },
      "source": [
        "# Step 1 : Set up and install"
      ]
    },
    {
      "cell_type": "code",
      "metadata": {
        "id": "zELJeBMboTSV",
        "colab_type": "code",
        "outputId": "c84cab58-ebe1-48c6-da75-c1c8e0b9dec6",
        "colab": {
          "base_uri": "https://localhost:8080/",
          "height": 632
        }
      },
      "source": [
        "pip install tensorflow-gpu"
      ],
      "execution_count": 0,
      "outputs": [
        {
          "output_type": "stream",
          "text": [
            "Requirement already satisfied: tensorflow-gpu in /usr/local/lib/python3.6/dist-packages (2.1.0)\n",
            "Requirement already satisfied: protobuf>=3.8.0 in /usr/local/lib/python3.6/dist-packages (from tensorflow-gpu) (3.10.0)\n",
            "Requirement already satisfied: tensorflow-estimator<2.2.0,>=2.1.0rc0 in /usr/local/lib/python3.6/dist-packages (from tensorflow-gpu) (2.1.0)\n",
            "Requirement already satisfied: grpcio>=1.8.6 in /usr/local/lib/python3.6/dist-packages (from tensorflow-gpu) (1.28.1)\n",
            "Requirement already satisfied: gast==0.2.2 in /usr/local/lib/python3.6/dist-packages (from tensorflow-gpu) (0.2.2)\n",
            "Requirement already satisfied: absl-py>=0.7.0 in /usr/local/lib/python3.6/dist-packages (from tensorflow-gpu) (0.9.0)\n",
            "Requirement already satisfied: google-pasta>=0.1.6 in /usr/local/lib/python3.6/dist-packages (from tensorflow-gpu) (0.2.0)\n",
            "Requirement already satisfied: wheel>=0.26; python_version >= \"3\" in /usr/local/lib/python3.6/dist-packages (from tensorflow-gpu) (0.34.2)\n",
            "Requirement already satisfied: opt-einsum>=2.3.2 in /usr/local/lib/python3.6/dist-packages (from tensorflow-gpu) (3.2.1)\n",
            "Requirement already satisfied: termcolor>=1.1.0 in /usr/local/lib/python3.6/dist-packages (from tensorflow-gpu) (1.1.0)\n",
            "Requirement already satisfied: six>=1.12.0 in /usr/local/lib/python3.6/dist-packages (from tensorflow-gpu) (1.12.0)\n",
            "Requirement already satisfied: tensorboard<2.2.0,>=2.1.0 in /usr/local/lib/python3.6/dist-packages (from tensorflow-gpu) (2.1.1)\n",
            "Requirement already satisfied: scipy==1.4.1; python_version >= \"3\" in /usr/local/lib/python3.6/dist-packages (from tensorflow-gpu) (1.4.1)\n",
            "Requirement already satisfied: numpy<2.0,>=1.16.0 in /usr/local/lib/python3.6/dist-packages (from tensorflow-gpu) (1.18.3)\n",
            "Requirement already satisfied: keras-applications>=1.0.8 in /usr/local/lib/python3.6/dist-packages (from tensorflow-gpu) (1.0.8)\n",
            "Requirement already satisfied: keras-preprocessing>=1.1.0 in /usr/local/lib/python3.6/dist-packages (from tensorflow-gpu) (1.1.0)\n",
            "Requirement already satisfied: astor>=0.6.0 in /usr/local/lib/python3.6/dist-packages (from tensorflow-gpu) (0.8.1)\n",
            "Requirement already satisfied: wrapt>=1.11.1 in /usr/local/lib/python3.6/dist-packages (from tensorflow-gpu) (1.12.1)\n",
            "Requirement already satisfied: setuptools in /usr/local/lib/python3.6/dist-packages (from protobuf>=3.8.0->tensorflow-gpu) (46.1.3)\n",
            "Requirement already satisfied: markdown>=2.6.8 in /usr/local/lib/python3.6/dist-packages (from tensorboard<2.2.0,>=2.1.0->tensorflow-gpu) (3.2.1)\n",
            "Requirement already satisfied: google-auth<2,>=1.6.3 in /usr/local/lib/python3.6/dist-packages (from tensorboard<2.2.0,>=2.1.0->tensorflow-gpu) (1.7.2)\n",
            "Requirement already satisfied: google-auth-oauthlib<0.5,>=0.4.1 in /usr/local/lib/python3.6/dist-packages (from tensorboard<2.2.0,>=2.1.0->tensorflow-gpu) (0.4.1)\n",
            "Requirement already satisfied: requests<3,>=2.21.0 in /usr/local/lib/python3.6/dist-packages (from tensorboard<2.2.0,>=2.1.0->tensorflow-gpu) (2.21.0)\n",
            "Requirement already satisfied: werkzeug>=0.11.15 in /usr/local/lib/python3.6/dist-packages (from tensorboard<2.2.0,>=2.1.0->tensorflow-gpu) (1.0.1)\n",
            "Requirement already satisfied: h5py in /usr/local/lib/python3.6/dist-packages (from keras-applications>=1.0.8->tensorflow-gpu) (2.10.0)\n",
            "Requirement already satisfied: cachetools<3.2,>=2.0.0 in /usr/local/lib/python3.6/dist-packages (from google-auth<2,>=1.6.3->tensorboard<2.2.0,>=2.1.0->tensorflow-gpu) (3.1.1)\n",
            "Requirement already satisfied: rsa<4.1,>=3.1.4 in /usr/local/lib/python3.6/dist-packages (from google-auth<2,>=1.6.3->tensorboard<2.2.0,>=2.1.0->tensorflow-gpu) (4.0)\n",
            "Requirement already satisfied: pyasn1-modules>=0.2.1 in /usr/local/lib/python3.6/dist-packages (from google-auth<2,>=1.6.3->tensorboard<2.2.0,>=2.1.0->tensorflow-gpu) (0.2.8)\n",
            "Requirement already satisfied: requests-oauthlib>=0.7.0 in /usr/local/lib/python3.6/dist-packages (from google-auth-oauthlib<0.5,>=0.4.1->tensorboard<2.2.0,>=2.1.0->tensorflow-gpu) (1.3.0)\n",
            "Requirement already satisfied: chardet<3.1.0,>=3.0.2 in /usr/local/lib/python3.6/dist-packages (from requests<3,>=2.21.0->tensorboard<2.2.0,>=2.1.0->tensorflow-gpu) (3.0.4)\n",
            "Requirement already satisfied: certifi>=2017.4.17 in /usr/local/lib/python3.6/dist-packages (from requests<3,>=2.21.0->tensorboard<2.2.0,>=2.1.0->tensorflow-gpu) (2020.4.5.1)\n",
            "Requirement already satisfied: idna<2.9,>=2.5 in /usr/local/lib/python3.6/dist-packages (from requests<3,>=2.21.0->tensorboard<2.2.0,>=2.1.0->tensorflow-gpu) (2.8)\n",
            "Requirement already satisfied: urllib3<1.25,>=1.21.1 in /usr/local/lib/python3.6/dist-packages (from requests<3,>=2.21.0->tensorboard<2.2.0,>=2.1.0->tensorflow-gpu) (1.24.3)\n",
            "Requirement already satisfied: pyasn1>=0.1.3 in /usr/local/lib/python3.6/dist-packages (from rsa<4.1,>=3.1.4->google-auth<2,>=1.6.3->tensorboard<2.2.0,>=2.1.0->tensorflow-gpu) (0.4.8)\n",
            "Requirement already satisfied: oauthlib>=3.0.0 in /usr/local/lib/python3.6/dist-packages (from requests-oauthlib>=0.7.0->google-auth-oauthlib<0.5,>=0.4.1->tensorboard<2.2.0,>=2.1.0->tensorflow-gpu) (3.1.0)\n"
          ],
          "name": "stdout"
        }
      ]
    },
    {
      "cell_type": "code",
      "metadata": {
        "id": "-09k8xhFobuw",
        "colab_type": "code",
        "colab": {}
      },
      "source": [
        "import numpy as np\n",
        "import pandas as pd\n",
        "import matplotlib.pyplot as plt\n",
        "import tensorflow as tf\n"
      ],
      "execution_count": 0,
      "outputs": []
    },
    {
      "cell_type": "code",
      "metadata": {
        "id": "5w4Qa0VdproO",
        "colab_type": "code",
        "outputId": "18ff620a-b1a7-4b24-f430-d89f4ec35ab8",
        "colab": {
          "base_uri": "https://localhost:8080/",
          "height": 34
        }
      },
      "source": [
        "print(tf.__version__)"
      ],
      "execution_count": 0,
      "outputs": [
        {
          "output_type": "stream",
          "text": [
            "2.1.0\n"
          ],
          "name": "stdout"
        }
      ]
    },
    {
      "cell_type": "markdown",
      "metadata": {
        "id": "UncMU4SipuCF",
        "colab_type": "text"
      },
      "source": [
        "# Step 2 : Importing Fashion_mnist Datasets"
      ]
    },
    {
      "cell_type": "code",
      "metadata": {
        "id": "V-qpapm4ptas",
        "colab_type": "code",
        "colab": {}
      },
      "source": [
        "from tensorflow.keras.datasets import cifar10,fashion_mnist #RNN takes 2d array as input,not 3d..cifar 10 dataset has images in 3d format. Facing error"
      ],
      "execution_count": 0,
      "outputs": []
    },
    {
      "cell_type": "code",
      "metadata": {
        "id": "YFseDLXrrFY3",
        "colab_type": "code",
        "outputId": "2cc0ec72-2f0f-4520-a32b-dc8ea57073e5",
        "colab": {
          "base_uri": "https://localhost:8080/",
          "height": 153
        }
      },
      "source": [
        "(xtrain,ytrain),(xtest,ytest)=fashion_mnist.load_data()"
      ],
      "execution_count": 0,
      "outputs": [
        {
          "output_type": "stream",
          "text": [
            "Downloading data from https://storage.googleapis.com/tensorflow/tf-keras-datasets/train-labels-idx1-ubyte.gz\n",
            "32768/29515 [=================================] - 0s 0us/step\n",
            "Downloading data from https://storage.googleapis.com/tensorflow/tf-keras-datasets/train-images-idx3-ubyte.gz\n",
            "26427392/26421880 [==============================] - 0s 0us/step\n",
            "Downloading data from https://storage.googleapis.com/tensorflow/tf-keras-datasets/t10k-labels-idx1-ubyte.gz\n",
            "8192/5148 [===============================================] - 0s 0us/step\n",
            "Downloading data from https://storage.googleapis.com/tensorflow/tf-keras-datasets/t10k-images-idx3-ubyte.gz\n",
            "4423680/4422102 [==============================] - 0s 0us/step\n"
          ],
          "name": "stdout"
        }
      ]
    },
    {
      "cell_type": "code",
      "metadata": {
        "id": "k2O0ZyYLrKVQ",
        "colab_type": "code",
        "outputId": "e78f0bd9-7232-46a2-8f8b-c7d47497d05c",
        "colab": {
          "base_uri": "https://localhost:8080/",
          "height": 34
        }
      },
      "source": [
        "xtrain.shape, ytrain.shape"
      ],
      "execution_count": 0,
      "outputs": [
        {
          "output_type": "execute_result",
          "data": {
            "text/plain": [
              "((60000, 28, 28), (60000,))"
            ]
          },
          "metadata": {
            "tags": []
          },
          "execution_count": 25
        }
      ]
    },
    {
      "cell_type": "code",
      "metadata": {
        "id": "CARgSB22rOtD",
        "colab_type": "code",
        "colab": {}
      },
      "source": [
        "#ytrain,ytest=ytrain.flatten(),ytest.flatten()"
      ],
      "execution_count": 0,
      "outputs": []
    },
    {
      "cell_type": "code",
      "metadata": {
        "id": "tnxnf03erXBA",
        "colab_type": "code",
        "outputId": "20544678-6d5c-4f8f-b3e0-ec3e298a46b6",
        "colab": {
          "base_uri": "https://localhost:8080/",
          "height": 34
        }
      },
      "source": [
        "ytrain.shape,ytest.shape"
      ],
      "execution_count": 0,
      "outputs": [
        {
          "output_type": "execute_result",
          "data": {
            "text/plain": [
              "((60000,), (10000,))"
            ]
          },
          "metadata": {
            "tags": []
          },
          "execution_count": 27
        }
      ]
    },
    {
      "cell_type": "code",
      "metadata": {
        "id": "g0ZlOENYrYyZ",
        "colab_type": "code",
        "outputId": "ac79f618-f477-4d0c-e8d4-1800cc6b9954",
        "colab": {
          "base_uri": "https://localhost:8080/",
          "height": 34
        }
      },
      "source": [
        "xtrain.max(),xtrain.min()"
      ],
      "execution_count": 0,
      "outputs": [
        {
          "output_type": "execute_result",
          "data": {
            "text/plain": [
              "(255, 0)"
            ]
          },
          "metadata": {
            "tags": []
          },
          "execution_count": 28
        }
      ]
    },
    {
      "cell_type": "code",
      "metadata": {
        "id": "5ou644_irpd1",
        "colab_type": "code",
        "colab": {}
      },
      "source": [
        "xtrain,xtest=xtrain/255,xtest/255"
      ],
      "execution_count": 0,
      "outputs": []
    },
    {
      "cell_type": "code",
      "metadata": {
        "id": "tKi2y1mRrvFm",
        "colab_type": "code",
        "outputId": "28f6cb09-5a3e-46de-96d7-804ce7acb0ac",
        "colab": {
          "base_uri": "https://localhost:8080/",
          "height": 34
        }
      },
      "source": [
        "xtrain.max(),xtrain.min()"
      ],
      "execution_count": 0,
      "outputs": [
        {
          "output_type": "execute_result",
          "data": {
            "text/plain": [
              "(1.0, 0.0)"
            ]
          },
          "metadata": {
            "tags": []
          },
          "execution_count": 30
        }
      ]
    },
    {
      "cell_type": "markdown",
      "metadata": {
        "id": "8WPeP6WlrhME",
        "colab_type": "text"
      },
      "source": [
        "# Step 3 : Building the RNN model"
      ]
    },
    {
      "cell_type": "code",
      "metadata": {
        "id": "jkCevVA_rlGC",
        "colab_type": "code",
        "colab": {}
      },
      "source": [
        "from tensorflow.keras.layers import Input,LSTM, Dense, Dropout\n",
        "from tensorflow.keras.models import Model"
      ],
      "execution_count": 0,
      "outputs": []
    },
    {
      "cell_type": "code",
      "metadata": {
        "id": "jUJqbky6sImw",
        "colab_type": "code",
        "colab": {}
      },
      "source": [
        "i=Input(shape=xtrain[0].shape)\n",
        "x=LSTM(15,activation='tanh')(i)\n",
        "x=Dense(10,activation='softmax')(x)\n",
        "\n",
        "model=Model(i,x)"
      ],
      "execution_count": 0,
      "outputs": []
    },
    {
      "cell_type": "code",
      "metadata": {
        "id": "hWNQ_EPitKWW",
        "colab_type": "code",
        "colab": {}
      },
      "source": [
        "opt=tf.keras.optimizers.Adam(learning_rate=0.001)"
      ],
      "execution_count": 0,
      "outputs": []
    },
    {
      "cell_type": "code",
      "metadata": {
        "id": "4D4UPKYFsZBb",
        "colab_type": "code",
        "colab": {}
      },
      "source": [
        "model.compile(optimizer=opt,loss='sparse_categorical_crossentropy',metrics=['accuracy'])"
      ],
      "execution_count": 0,
      "outputs": []
    },
    {
      "cell_type": "code",
      "metadata": {
        "id": "foHmQFXbtjek",
        "colab_type": "code",
        "outputId": "702acdf8-ceae-49d4-ece1-be9fb13e7373",
        "colab": {
          "base_uri": "https://localhost:8080/",
          "height": 374
        }
      },
      "source": [
        "r=model.fit(xtrain,ytrain,epochs=10,validation_data=(xtest,ytest))"
      ],
      "execution_count": 0,
      "outputs": [
        {
          "output_type": "stream",
          "text": [
            "Train on 60000 samples, validate on 10000 samples\n",
            "Epoch 1/10\n",
            "60000/60000 [==============================] - 21s 348us/sample - loss: 0.4514 - accuracy: 0.8389 - val_loss: 0.4662 - val_accuracy: 0.8354\n",
            "Epoch 2/10\n",
            "60000/60000 [==============================] - 19s 321us/sample - loss: 0.4419 - accuracy: 0.8435 - val_loss: 0.4522 - val_accuracy: 0.8399\n",
            "Epoch 3/10\n",
            "60000/60000 [==============================] - 19s 324us/sample - loss: 0.4278 - accuracy: 0.8475 - val_loss: 0.4423 - val_accuracy: 0.8433\n",
            "Epoch 4/10\n",
            "60000/60000 [==============================] - 20s 325us/sample - loss: 0.4165 - accuracy: 0.8520 - val_loss: 0.4320 - val_accuracy: 0.8484\n",
            "Epoch 5/10\n",
            "60000/60000 [==============================] - 19s 322us/sample - loss: 0.4080 - accuracy: 0.8549 - val_loss: 0.4253 - val_accuracy: 0.8476\n",
            "Epoch 6/10\n",
            "60000/60000 [==============================] - 20s 327us/sample - loss: 0.3998 - accuracy: 0.8571 - val_loss: 0.4217 - val_accuracy: 0.8503\n",
            "Epoch 7/10\n",
            "60000/60000 [==============================] - 19s 324us/sample - loss: 0.3940 - accuracy: 0.8599 - val_loss: 0.4106 - val_accuracy: 0.8514\n",
            "Epoch 8/10\n",
            "60000/60000 [==============================] - 19s 324us/sample - loss: 0.3857 - accuracy: 0.8633 - val_loss: 0.4126 - val_accuracy: 0.8513\n",
            "Epoch 9/10\n",
            "60000/60000 [==============================] - 19s 320us/sample - loss: 0.3811 - accuracy: 0.8650 - val_loss: 0.4043 - val_accuracy: 0.8541\n",
            "Epoch 10/10\n",
            "60000/60000 [==============================] - 19s 325us/sample - loss: 0.3749 - accuracy: 0.8677 - val_loss: 0.4033 - val_accuracy: 0.8537\n"
          ],
          "name": "stdout"
        }
      ]
    },
    {
      "cell_type": "markdown",
      "metadata": {
        "id": "umU2DiZDvmAu",
        "colab_type": "text"
      },
      "source": [
        "# Step 4 : Making Predictions"
      ]
    },
    {
      "cell_type": "code",
      "metadata": {
        "id": "NSunUwl-v58c",
        "colab_type": "code",
        "colab": {}
      },
      "source": [
        "ypred=model.predict(xtest)"
      ],
      "execution_count": 0,
      "outputs": []
    },
    {
      "cell_type": "code",
      "metadata": {
        "id": "tClYjZ-jv-Rc",
        "colab_type": "code",
        "outputId": "bccfa798-7c1d-4072-9a2c-d3acbc8d2ae1",
        "colab": {
          "base_uri": "https://localhost:8080/",
          "height": 238
        }
      },
      "source": [
        "print(ypred)"
      ],
      "execution_count": 0,
      "outputs": [
        {
          "output_type": "stream",
          "text": [
            "[[9.6980114e-07 1.2142977e-05 6.6875386e-06 ... 7.5713429e-03\n",
            "  2.0407165e-04 9.8318231e-01]\n",
            " [2.4802130e-04 1.2494919e-05 9.4512403e-01 ... 2.3265191e-07\n",
            "  6.1853360e-05 2.2877200e-06]\n",
            " [1.8894347e-05 9.9978846e-01 1.6288908e-05 ... 4.6821679e-06\n",
            "  4.9235501e-07 5.3950866e-06]\n",
            " ...\n",
            " [2.5402963e-02 3.7821876e-05 9.9468443e-06 ... 4.6376321e-05\n",
            "  9.4334173e-01 9.1198726e-06]\n",
            " [2.8724111e-05 9.9887484e-01 6.5244819e-07 ... 2.7276935e-06\n",
            "  4.9047521e-06 1.0413725e-05]\n",
            " [8.8051973e-05 9.2527318e-07 6.0292485e-04 ... 6.0312245e-03\n",
            "  1.0346705e-03 5.8127088e-03]]\n"
          ],
          "name": "stdout"
        }
      ]
    },
    {
      "cell_type": "code",
      "metadata": {
        "id": "mt1eU1rYwAYM",
        "colab_type": "code",
        "colab": {}
      },
      "source": [
        "ypred=np.argmax(ypred,axis=1)"
      ],
      "execution_count": 0,
      "outputs": []
    },
    {
      "cell_type": "code",
      "metadata": {
        "id": "WdBHyIpbwM6M",
        "colab_type": "code",
        "colab": {}
      },
      "source": [
        "from sklearn.metrics import confusion_matrix"
      ],
      "execution_count": 0,
      "outputs": []
    },
    {
      "cell_type": "code",
      "metadata": {
        "id": "lej3joqOwRe1",
        "colab_type": "code",
        "outputId": "a0bd4368-86e7-4c9d-d45d-4c24e571e26c",
        "colab": {
          "base_uri": "https://localhost:8080/",
          "height": 187
        }
      },
      "source": [
        "cm=confusion_matrix(ypred,ytest)\n",
        "print(cm)"
      ],
      "execution_count": 0,
      "outputs": [
        {
          "output_type": "stream",
          "text": [
            "[[734   2  14  23   0   0 127   0   1   0]\n",
            " [  4 955   0   8   1   1   3   0   0   0]\n",
            " [ 14   3 736  16  85   0 102   0  10   0]\n",
            " [ 53  30  13 880  34   0  31   0   2   0]\n",
            " [  6   5 149  30 810   0 108   0   5   0]\n",
            " [  1   0   0   0   0 945   0  15   3   6]\n",
            " [174   2  81  41  67   0 609   0   8   0]\n",
            " [  0   0   0   0   0  32   0 939   6  28]\n",
            " [ 14   3   7   2   3   3  20   0 965   2]\n",
            " [  0   0   0   0   0  19   0  46   0 964]]\n"
          ],
          "name": "stdout"
        }
      ]
    },
    {
      "cell_type": "markdown",
      "metadata": {
        "id": "Skbtx9inwWJz",
        "colab_type": "text"
      },
      "source": [
        "# Step 5 : Model Evaluation"
      ]
    },
    {
      "cell_type": "code",
      "metadata": {
        "id": "wkl6UWz5tqEd",
        "colab_type": "code",
        "outputId": "8bf83816-0fda-41e7-ffab-ed6a2f49ff3c",
        "colab": {
          "base_uri": "https://localhost:8080/",
          "height": 282
        }
      },
      "source": [
        "# Plot loss per iteration\n",
        "import matplotlib.pyplot as plt\n",
        "plt.plot(r.history['loss'], label='loss')\n",
        "plt.plot(r.history['val_loss'], label='val_loss')\n",
        "plt.legend()"
      ],
      "execution_count": 0,
      "outputs": [
        {
          "output_type": "execute_result",
          "data": {
            "text/plain": [
              "<matplotlib.legend.Legend at 0x7fb3368ea940>"
            ]
          },
          "metadata": {
            "tags": []
          },
          "execution_count": 62
        },
        {
          "output_type": "display_data",
          "data": {
            "image/png": "[encoded data removed]",
            "text/plain": [
              "<Figure size 432x288 with 1 Axes>"
            ]
          },
          "metadata": {
            "tags": [],
            "needs_background": "light"
          }
        }
      ]
    },
    {
      "cell_type": "code",
      "metadata": {
        "id": "ekkk6JShv5I2",
        "colab_type": "code",
        "outputId": "9d884e97-be56-4ed4-f8aa-e2514d7099eb",
        "colab": {
          "base_uri": "https://localhost:8080/",
          "height": 282
        }
      },
      "source": [
        "# Plot accuracy per iteration\n",
        "plt.plot(r.history['accuracy'], label='acc')\n",
        "plt.plot(r.history['val_accuracy'], label='val_acc')\n",
        "plt.legend()"
      ],
      "execution_count": 0,
      "outputs": [
        {
          "output_type": "execute_result",
          "data": {
            "text/plain": [
              "<matplotlib.legend.Legend at 0x7fb336846c18>"
            ]
          },
          "metadata": {
            "tags": []
          },
          "execution_count": 63
        },
        {
          "output_type": "display_data",
          "data": {
            "image/png": "[encoded data removed]",
            "text/plain": [
              "<Figure size 432x288 with 1 Axes>"
            ]
          },
          "metadata": {
            "tags": [],
            "needs_background": "light"
          }
        }
      ]
    },
    {
      "cell_type": "code",
      "metadata": {
        "id": "F3YrHcJk0OXx",
        "colab_type": "code",
        "outputId": "6cd1b6ce-f3d2-4072-ef41-36a64f8da15f",
        "colab": {
          "base_uri": "https://localhost:8080/",
          "height": 34
        }
      },
      "source": [
        "xtrain[0].shape"
      ],
      "execution_count": 0,
      "outputs": [
        {
          "output_type": "execute_result",
          "data": {
            "text/plain": [
              "(28, 28)"
            ]
          },
          "metadata": {
            "tags": []
          },
          "execution_count": 64
        }
      ]
    },
    {
      "cell_type": "markdown",
      "metadata": {
        "id": "6HeP1bnuyahM",
        "colab_type": "text"
      },
      "source": [
        "# Step 6 : Building a new Improved RNN model"
      ]
    },
    {
      "cell_type": "code",
      "metadata": {
        "id": "j1w7Dbm3yd0F",
        "colab_type": "code",
        "colab": {}
      },
      "source": [
        "i1=Input(shape=xtrain[0].shape)\n",
        "\n",
        "x1=LSTM(128,activation='relu')(i1)\n",
        "#x1=Dropout(0.2)(x1)\n",
        "\n",
        "#x1=LSTM(128,activation='relu')(x1) #By adding another layer of LSTM, test accuracy will increase even more.\n",
        "#x1=Dropout(0.2)(x1)\n",
        "\n",
        "x1=Dense(128,activation='relu')(x1)\n",
        "x1=Dropout(0.2)(x1)\n",
        "x1=Dense(10,activation='softmax')(x1)\n",
        "\n",
        "model=Model(i,x)\n",
        "\n",
        "model1=Model(i1,x1)"
      ],
      "execution_count": 0,
      "outputs": []
    },
    {
      "cell_type": "code",
      "metadata": {
        "id": "vfr65ZoY40oR",
        "colab_type": "code",
        "outputId": "f314718f-9358-4e02-dbfd-1a3757363aa2",
        "colab": {
          "base_uri": "https://localhost:8080/",
          "height": 323
        }
      },
      "source": [
        "model1.summary()"
      ],
      "execution_count": 0,
      "outputs": [
        {
          "output_type": "stream",
          "text": [
            "Model: \"model_16\"\n",
            "_________________________________________________________________\n",
            "Layer (type)                 Output Shape              Param #   \n",
            "=================================================================\n",
            "input_15 (InputLayer)        [(None, 28, 28)]          0         \n",
            "_________________________________________________________________\n",
            "lstm_17 (LSTM)               (None, 128)               80384     \n",
            "_________________________________________________________________\n",
            "dense_13 (Dense)             (None, 128)               16512     \n",
            "_________________________________________________________________\n",
            "dropout_7 (Dropout)          (None, 128)               0         \n",
            "_________________________________________________________________\n",
            "dense_14 (Dense)             (None, 10)                1290      \n",
            "=================================================================\n",
            "Total params: 98,186\n",
            "Trainable params: 98,186\n",
            "Non-trainable params: 0\n",
            "_________________________________________________________________\n"
          ],
          "name": "stdout"
        }
      ]
    },
    {
      "cell_type": "code",
      "metadata": {
        "id": "Yz2l6DON5u62",
        "colab_type": "code",
        "colab": {}
      },
      "source": [
        "opt1=tf.keras.optimizers.Adam(learning_rate=0.001)"
      ],
      "execution_count": 0,
      "outputs": []
    },
    {
      "cell_type": "code",
      "metadata": {
        "id": "SeuKz4Djzlt3",
        "colab_type": "code",
        "colab": {}
      },
      "source": [
        "model1.compile(optimizer='adam',loss='sparse_categorical_crossentropy',metrics=['accuracy'])"
      ],
      "execution_count": 0,
      "outputs": []
    },
    {
      "cell_type": "code",
      "metadata": {
        "id": "B-tCxoE5zz8t",
        "colab_type": "code",
        "outputId": "2b97786b-c3af-4b15-c454-fd64d5137885",
        "colab": {
          "base_uri": "https://localhost:8080/",
          "height": 714
        }
      },
      "source": [
        "r1=model1.fit(xtrain,ytrain,epochs=20,validation_data=(xtest,ytest))"
      ],
      "execution_count": 0,
      "outputs": [
        {
          "output_type": "stream",
          "text": [
            "Train on 60000 samples, validate on 10000 samples\n",
            "Epoch 1/20\n",
            "60000/60000 [==============================] - 74s 1ms/sample - loss: 0.5152 - accuracy: 0.8091 - val_loss: 0.4247 - val_accuracy: 0.8443\n",
            "Epoch 2/20\n",
            "60000/60000 [==============================] - 72s 1ms/sample - loss: 0.3781 - accuracy: 0.8608 - val_loss: 0.3628 - val_accuracy: 0.8676\n",
            "Epoch 3/20\n",
            "60000/60000 [==============================] - 73s 1ms/sample - loss: 0.3404 - accuracy: 0.8759 - val_loss: 0.3377 - val_accuracy: 0.8717\n",
            "Epoch 4/20\n",
            "60000/60000 [==============================] - 74s 1ms/sample - loss: 0.3157 - accuracy: 0.8831 - val_loss: 0.3348 - val_accuracy: 0.8772\n",
            "Epoch 5/20\n",
            "60000/60000 [==============================] - 73s 1ms/sample - loss: 0.2990 - accuracy: 0.8894 - val_loss: 0.3196 - val_accuracy: 0.8821\n",
            "Epoch 6/20\n",
            "60000/60000 [==============================] - 73s 1ms/sample - loss: 0.2884 - accuracy: 0.8933 - val_loss: 0.3122 - val_accuracy: 0.8839\n",
            "Epoch 7/20\n",
            "60000/60000 [==============================] - 73s 1ms/sample - loss: 0.2731 - accuracy: 0.8974 - val_loss: 0.3151 - val_accuracy: 0.8856\n",
            "Epoch 8/20\n",
            "60000/60000 [==============================] - 73s 1ms/sample - loss: 0.2616 - accuracy: 0.9015 - val_loss: 0.3115 - val_accuracy: 0.8885\n",
            "Epoch 9/20\n",
            "60000/60000 [==============================] - 74s 1ms/sample - loss: 0.2515 - accuracy: 0.9057 - val_loss: 0.3081 - val_accuracy: 0.8838\n",
            "Epoch 10/20\n",
            "60000/60000 [==============================] - 75s 1ms/sample - loss: 0.2420 - accuracy: 0.9090 - val_loss: 0.3107 - val_accuracy: 0.8881\n",
            "Epoch 11/20\n",
            "60000/60000 [==============================] - 73s 1ms/sample - loss: 0.2351 - accuracy: 0.9122 - val_loss: 0.2931 - val_accuracy: 0.8952\n",
            "Epoch 12/20\n",
            "60000/60000 [==============================] - 74s 1ms/sample - loss: 0.2247 - accuracy: 0.9160 - val_loss: 0.2969 - val_accuracy: 0.8964\n",
            "Epoch 13/20\n",
            "60000/60000 [==============================] - 72s 1ms/sample - loss: 0.2226 - accuracy: 0.9165 - val_loss: 0.2958 - val_accuracy: 0.8967\n",
            "Epoch 14/20\n",
            "60000/60000 [==============================] - 72s 1ms/sample - loss: 0.2102 - accuracy: 0.9199 - val_loss: 0.3034 - val_accuracy: 0.8903\n",
            "Epoch 15/20\n",
            "60000/60000 [==============================] - 72s 1ms/sample - loss: 0.2040 - accuracy: 0.9223 - val_loss: 0.2913 - val_accuracy: 0.8988\n",
            "Epoch 16/20\n",
            "60000/60000 [==============================] - 73s 1ms/sample - loss: 0.1985 - accuracy: 0.9248 - val_loss: 0.3082 - val_accuracy: 0.8950\n",
            "Epoch 17/20\n",
            "60000/60000 [==============================] - 72s 1ms/sample - loss: 0.1937 - accuracy: 0.9277 - val_loss: 0.2908 - val_accuracy: 0.9009\n",
            "Epoch 18/20\n",
            "60000/60000 [==============================] - 72s 1ms/sample - loss: 0.1867 - accuracy: 0.9284 - val_loss: 0.3255 - val_accuracy: 0.8958\n",
            "Epoch 19/20\n",
            "60000/60000 [==============================] - 72s 1ms/sample - loss: 0.1812 - accuracy: 0.9310 - val_loss: 0.3079 - val_accuracy: 0.9030\n",
            "Epoch 20/20\n",
            "60000/60000 [==============================] - 72s 1ms/sample - loss: 0.1760 - accuracy: 0.9320 - val_loss: 0.3045 - val_accuracy: 0.9035\n"
          ],
          "name": "stdout"
        }
      ]
    },
    {
      "cell_type": "code",
      "metadata": {
        "id": "MC8rn26C17u_",
        "colab_type": "code",
        "outputId": "ade4e788-6c60-48be-abc1-2f44f71cab02",
        "colab": {
          "base_uri": "https://localhost:8080/",
          "height": 282
        }
      },
      "source": [
        "# Plot loss per iteration\n",
        "import matplotlib.pyplot as plt\n",
        "plt.plot(r1.history['loss'], label='loss')\n",
        "plt.plot(r1.history['val_loss'], label='val_loss')\n",
        "plt.legend()"
      ],
      "execution_count": 0,
      "outputs": [
        {
          "output_type": "execute_result",
          "data": {
            "text/plain": [
              "<matplotlib.legend.Legend at 0x7fb32fcac7b8>"
            ]
          },
          "metadata": {
            "tags": []
          },
          "execution_count": 106
        },
        {
          "output_type": "display_data",
          "data": {
            "image/png": "[encoded data removed]",
            "text/plain": [
              "<Figure size 432x288 with 1 Axes>"
            ]
          },
          "metadata": {
            "tags": [],
            "needs_background": "light"
          }
        }
      ]
    },
    {
      "cell_type": "code",
      "metadata": {
        "id": "96Q1X32X3Lgw",
        "colab_type": "code",
        "outputId": "a7ab0bf4-bec4-43dd-a6f4-5db916319f24",
        "colab": {
          "base_uri": "https://localhost:8080/",
          "height": 282
        }
      },
      "source": [
        "# Plot accuracy per iteration\n",
        "plt.plot(r1.history['accuracy'], label='acc')\n",
        "plt.plot(r1.history['val_accuracy'], label='val_acc')\n",
        "plt.legend()"
      ],
      "execution_count": 0,
      "outputs": [
        {
          "output_type": "execute_result",
          "data": {
            "text/plain": [
              "<matplotlib.legend.Legend at 0x7fb32f3f5f60>"
            ]
          },
          "metadata": {
            "tags": []
          },
          "execution_count": 107
        },
        {
          "output_type": "display_data",
          "data": {
            "image/png": "[encoded data removed]",
            "text/plain": [
              "<Figure size 432x288 with 1 Axes>"
            ]
          },
          "metadata": {
            "tags": [],
            "needs_background": "light"
          }
        }
      ]
    },
    {
      "cell_type": "code",
      "metadata": {
        "id": "RLpNlu-KELth",
        "colab_type": "code",
        "colab": {}
      },
      "source": [
        ""
      ],
      "execution_count": 0,
      "outputs": []
    }
  ]
}